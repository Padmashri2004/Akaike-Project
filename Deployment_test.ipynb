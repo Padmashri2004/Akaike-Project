{
  "nbformat": 4,
  "nbformat_minor": 0,
  "metadata": {
    "colab": {
      "provenance": []
    },
    "kernelspec": {
      "name": "python3",
      "display_name": "Python 3"
    },
    "language_info": {
      "name": "python"
    }
  },
  "cells": [
    {
      "cell_type": "code",
      "execution_count": 12,
      "metadata": {
        "colab": {
          "base_uri": "https://localhost:8080/"
        },
        "id": "Rv797kf7CpJJ",
        "outputId": "dca9eff2-dd78-4938-95c3-1a4de85fdbc4"
      },
      "outputs": [
        {
          "output_type": "stream",
          "name": "stdout",
          "text": [
            "Status: 200\n",
            "{\n",
            "  \"category_of_the_email\": \"Incident\",\n",
            "  \"input_email_body\": \"Hello, my name is Padmashri D N and my email is padma@gmail.com\",\n",
            "  \"list_of_masked_entities\": [\n",
            "    {\n",
            "      \"classification\": \"full_name\",\n",
            "      \"entity\": \"Padmashri D N\",\n",
            "      \"position\": [\n",
            "        18,\n",
            "        31\n",
            "      ]\n",
            "    },\n",
            "    {\n",
            "      \"classification\": \"email\",\n",
            "      \"entity\": \"padma@gmail.com\",\n",
            "      \"position\": [\n",
            "        48,\n",
            "        63\n",
            "      ]\n",
            "    }\n",
            "  ],\n",
            "  \"masked_email\": \"Hello, my name is [full_name] and my email is [email]\"\n",
            "}\n"
          ]
        }
      ],
      "source": [
        "import requests, json\n",
        "\n",
        "url = \"https://padmashri2004-email-classifier.hf.space/classify\"\n",
        "\n",
        "payload = {\n",
        "    \"input_email_body\": \"Hello, my name is Padmashri D N and my email is padma@gmail.com\"\n",
        "}\n",
        "\n",
        "r = requests.post(url, json=payload)\n",
        "print(\"Status:\", r.status_code)\n",
        "print(json.dumps(r.json(), indent=2))\n"
      ]
    }
  ]
}